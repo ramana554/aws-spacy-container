{
 "cells": [
  {
   "cell_type": "code",
   "execution_count": 8,
   "id": "fb2b9137-63b4-4973-8edb-273dcac01494",
   "metadata": {
    "tags": []
   },
   "outputs": [],
   "source": [
    "# S3 prefix\n",
    "prefix = \"test-spacy-venkat-docker-example\"\n",
    "\n",
    "# Define IAM role\n",
    "import boto3\n",
    "import re\n",
    "\n",
    "import os\n",
    "import numpy as np\n",
    "import pandas as pd\n",
    "from sagemaker import get_execution_role\n",
    "\n",
    "role = get_execution_role()"
   ]
  },
  {
   "cell_type": "code",
   "execution_count": 9,
   "id": "9dd06f5a-70de-4615-ab36-eca8c6d00f3a",
   "metadata": {
    "tags": []
   },
   "outputs": [],
   "source": [
    "import sagemaker as sage\n",
    "from time import gmtime, strftime\n",
    "\n",
    "sess = sage.Session()"
   ]
  },
  {
   "cell_type": "code",
   "execution_count": 21,
   "id": "65db0365-b5a1-40aa-8209-1e2acd915c92",
   "metadata": {
    "tags": []
   },
   "outputs": [],
   "source": [
    "WORK_DIRECTORY = \"spacy_data\"\n",
    "\n",
    "data_location = sess.upload_data(WORK_DIRECTORY, key_prefix=prefix)"
   ]
  },
  {
   "cell_type": "code",
   "execution_count": 22,
   "id": "71ee0293-49ea-4d22-8bf0-6e31920f7c30",
   "metadata": {
    "tags": []
   },
   "outputs": [
    {
     "data": {
      "text/plain": [
       "'sagemaker-us-west-1-849635460031'"
      ]
     },
     "execution_count": 22,
     "metadata": {},
     "output_type": "execute_result"
    }
   ],
   "source": [
    "sess.default_bucket()"
   ]
  },
  {
   "cell_type": "code",
   "execution_count": 16,
   "id": "6b4c948c-a91a-4740-836e-6459c882a6fe",
   "metadata": {
    "tags": []
   },
   "outputs": [
    {
     "name": "stderr",
     "output_type": "stream",
     "text": [
      "INFO:sagemaker:Creating training-job with name: spacy-container-2023-05-23-22-20-15-175\n"
     ]
    },
    {
     "name": "stdout",
     "output_type": "stream",
     "text": [
      "2023-05-23 22:20:15 Starting - Starting the training job...\n",
      "2023-05-23 22:20:29 Starting - Preparing the instances for training......\n",
      "2023-05-23 22:21:31 Downloading - Downloading input data..\u001b[34mStarting the training.\u001b[0m\n",
      "\u001b[34mCreated blank 'en' model\u001b[0m\n",
      "\u001b[34m'ner' not in nlp.pipe_names\u001b[0m\n",
      "\u001b[34m8\u001b[0m\n",
      "\u001b[34m#015  0%|          | 0/8 [00:00<?, ?it/s]#015 50%|#####     | 4/8 [00:00<00:00, 32.53it/s]#015100%|##########| 8/8 [00:00<00:00, 34.99it/s]#015100%|##########| 8/8 [00:00<00:00, 34.56it/s]\u001b[0m\n",
      "\u001b[34m{'ner': 184.22298562526703}\u001b[0m\n",
      "\u001b[34m#015  0%|          | 0/8 [00:00<?, ?it/s]#015 50%|#####     | 4/8 [00:00<00:00, 34.02it/s]#015100%|##########| 8/8 [00:00<00:00, 36.93it/s]#015100%|##########| 8/8 [00:00<00:00, 36.43it/s]\u001b[0m\n",
      "\u001b[34m{'ner': 62.24409560271624}\u001b[0m\n",
      "\u001b[34m#015  0%|          | 0/8 [00:00<?, ?it/s]#015 50%|#####     | 4/8 [00:00<00:00, 37.02it/s]#015100%|##########| 8/8 [00:00<00:00, 35.85it/s]#015100%|##########| 8/8 [00:00<00:00, 35.99it/s]\u001b[0m\n",
      "\u001b[34m{'ner': 23.862365433358548}\u001b[0m\n",
      "\u001b[34m#015  0%|          | 0/8 [00:00<?, ?it/s]#015 50%|#####     | 4/8 [00:00<00:00, 34.29it/s]#015100%|##########| 8/8 [00:00<00:00, 36.28it/s]#015100%|##########| 8/8 [00:00<00:00, 35.93it/s]\u001b[0m\n",
      "\u001b[34m{'ner': 20.517531764068735}\u001b[0m\n",
      "\u001b[34m#015  0%|          | 0/8 [00:00<?, ?it/s]#015 50%|#####     | 4/8 [00:00<00:00, 35.10it/s]#015100%|##########| 8/8 [00:00<00:00, 36.53it/s]#015100%|##########| 8/8 [00:00<00:00, 36.28it/s]\u001b[0m\n",
      "\u001b[34m{'ner': 15.432149990648895}\u001b[0m\n",
      "\u001b[34m#015  0%|          | 0/8 [00:00<?, ?it/s]#015 50%|#####     | 4/8 [00:00<00:00, 38.02it/s]#015100%|##########| 8/8 [00:00<00:00, 35.69it/s]#015100%|##########| 8/8 [00:00<00:00, 35.99it/s]\u001b[0m\n",
      "\u001b[34m{'ner': 13.946313973675327}\u001b[0m\n",
      "\u001b[34m#015  0%|          | 0/8 [00:00<?, ?it/s]#015 50%|#####     | 4/8 [00:00<00:00, 35.91it/s]#015100%|##########| 8/8 [00:00<00:00, 35.85it/s]#015100%|##########| 8/8 [00:00<00:00, 35.83it/s]\u001b[0m\n",
      "\u001b[34m{'ner': 12.360381148030438}\u001b[0m\n",
      "\u001b[34m#015  0%|          | 0/8 [00:00<?, ?it/s]#015 50%|#####     | 4/8 [00:00<00:00, 36.04it/s]#015100%|##########| 8/8 [00:00<00:00, 36.28it/s]#015100%|##########| 8/8 [00:00<00:00, 36.21it/s]\u001b[0m\n",
      "\u001b[34m{'ner': 11.609464637917231}\u001b[0m\n",
      "\u001b[34m#015  0%|          | 0/8 [00:00<?, ?it/s]#015 50%|#####     | 4/8 [00:00<00:00, 36.03it/s]#015100%|##########| 8/8 [00:00<00:00, 36.73it/s]#015100%|##########| 8/8 [00:00<00:00, 36.59it/s]\u001b[0m\n",
      "\u001b[34m{'ner': 8.567963074307547}\u001b[0m\n",
      "\u001b[34m#015  0%|          | 0/8 [00:00<?, ?it/s]#015 50%|#####     | 4/8 [00:00<00:00, 32.60it/s]#015100%|##########| 8/8 [00:00<00:00, 35.69it/s]#015100%|##########| 8/8 [00:00<00:00, 35.16it/s]\u001b[0m\n",
      "\u001b[34m{'ner': 85.19440704061515}\u001b[0m\n",
      "\u001b[34m#015  0%|          | 0/8 [00:00<?, ?it/s]#015 50%|#####     | 4/8 [00:00<00:00, 34.84it/s]#015100%|##########| 8/8 [00:00<00:00, 36.58it/s]#015100%|##########| 8/8 [00:00<00:00, 36.27it/s]\u001b[0m\n",
      "\u001b[34m{'ner': 14.438856257032244}\u001b[0m\n",
      "\u001b[34m{'ner': 9.240135997461488}\u001b[0m\n",
      "\u001b[34m#015  0%|          | 0/8 [00:00<?, ?it/s]#015 50%|#####     | 4/8 [00:00<00:00, 37.12it/s]#015100%|##########| 8/8 [00:00<00:00, 35.81it/s]#015100%|##########| 8/8 [00:00<00:00, 35.96it/s]\u001b[0m\n",
      "\u001b[34m#015  0%|          | 0/8 [00:00<?, ?it/s]#015 50%|#####     | 4/8 [00:00<00:00, 34.42it/s]#015100%|##########| 8/8 [00:00<00:00, 36.75it/s]#015100%|##########| 8/8 [00:00<00:00, 36.34it/s]\u001b[0m\n",
      "\u001b[34m{'ner': 10.186959014383964}\u001b[0m\n",
      "\u001b[34m#015  0%|          | 0/8 [00:00<?, ?it/s]#015 50%|#####     | 4/8 [00:00<00:00, 35.43it/s]#015100%|##########| 8/8 [00:00<00:00, 35.87it/s]#015100%|##########| 8/8 [00:00<00:00, 35.77it/s]\u001b[0m\n",
      "\u001b[34m{'ner': 10.688259593475303}\u001b[0m\n",
      "\u001b[34m#015  0%|          | 0/8 [00:00<?, ?it/s]#015 50%|#####     | 4/8 [00:00<00:00, 32.69it/s]#015100%|##########| 8/8 [00:00<00:00, 32.74it/s]#015100%|##########| 8/8 [00:00<00:00, 32.70it/s]\u001b[0m\n",
      "\u001b[34m{'ner': 6.284062649622035}\u001b[0m\n",
      "\u001b[34m#015  0%|          | 0/8 [00:00<?, ?it/s]#015 50%|#####     | 4/8 [00:00<00:00, 36.67it/s]#015100%|##########| 8/8 [00:00<00:00, 35.98it/s]#015100%|##########| 8/8 [00:00<00:00, 36.04it/s]\u001b[0m\n",
      "\u001b[34m{'ner': 3.566113179884889}\u001b[0m\n",
      "\u001b[34m#015  0%|          | 0/8 [00:00<?, ?it/s]#015 50%|#####     | 4/8 [00:00<00:00, 34.59it/s]#015100%|##########| 8/8 [00:00<00:00, 36.63it/s]#015100%|##########| 8/8 [00:00<00:00, 36.27it/s]\u001b[0m\n",
      "\u001b[34m{'ner': 0.8352691486024013}\u001b[0m\n",
      "\u001b[34m#015  0%|          | 0/8 [00:00<?, ?it/s]#015 62%|######2   | 5/8 [00:00<00:00, 38.08it/s]#015100%|##########| 8/8 [00:00<00:00, 37.31it/s]\u001b[0m\n",
      "\u001b[34m{'ner': 1.0038921204854558}\u001b[0m\n",
      "\u001b[34m#015  0%|          | 0/8 [00:00<?, ?it/s]#015 50%|#####     | 4/8 [00:00<00:00, 38.13it/s]#015100%|##########| 8/8 [00:00<00:00, 37.04it/s]#015100%|##########| 8/8 [00:00<00:00, 37.16it/s]\u001b[0m\n",
      "\u001b[34m{'ner': 0.05328352228351143}\u001b[0m\n",
      "\u001b[34m{'ner': 0.0343320766678512}\u001b[0m\n",
      "\u001b[34m#015  0%|          | 0/8 [00:00<?, ?it/s]#015 62%|######2   | 5/8 [00:00<00:00, 40.21it/s]#015100%|##########| 8/8 [00:00<00:00, 37.34it/s]\u001b[0m\n",
      "\u001b[34mTraining complete.\u001b[0m\n",
      "\n",
      "2023-05-23 22:22:12 Training - Training image download completed. Training in progress.\n",
      "2023-05-23 22:22:12 Uploading - Uploading generated training model\n",
      "2023-05-23 22:22:23 Completed - Training job completed\n",
      "Training seconds: 52\n",
      "Billable seconds: 52\n"
     ]
    }
   ],
   "source": [
    "account = sess.boto_session.client(\"sts\").get_caller_identity()[\"Account\"]\n",
    "region = sess.boto_session.region_name\n",
    "image = \"849635460031.dkr.ecr.us-west-1.amazonaws.com/spacy-container:latest\"\n",
    "\n",
    "spacy = sage.estimator.Estimator(\n",
    "    image,\n",
    "    role,\n",
    "    1,\n",
    "    \"ml.c4.2xlarge\",\n",
    "    output_path=\"s3://{}/output\".format(sess.default_bucket()),\n",
    "    sagemaker_session=sess,\n",
    ")\n",
    "\n",
    "spacy.fit(data_location)"
   ]
  },
  {
   "cell_type": "code",
   "execution_count": 17,
   "id": "81bf1db7-bfb6-463f-b4d0-04d9637f2429",
   "metadata": {
    "tags": []
   },
   "outputs": [
    {
     "name": "stderr",
     "output_type": "stream",
     "text": [
      "INFO:sagemaker:Creating model with name: spacy-container-2023-05-23-22-22-57-975\n",
      "INFO:sagemaker:Creating endpoint-config with name spacy-container-2023-05-23-22-22-57-975\n",
      "INFO:sagemaker:Creating endpoint with name spacy-container-2023-05-23-22-22-57-975\n"
     ]
    },
    {
     "name": "stdout",
     "output_type": "stream",
     "text": [
      "----!"
     ]
    }
   ],
   "source": [
    "from sagemaker.predictor import csv_serializer\n",
    "\n",
    "predictor = spacy.deploy(1, \"ml.m4.xlarge\", serializer=csv_serializer)"
   ]
  },
  {
   "cell_type": "code",
   "execution_count": 18,
   "id": "1964e3e6-63ae-4ea2-9414-15531ba32d2d",
   "metadata": {
    "tags": []
   },
   "outputs": [
    {
     "name": "stderr",
     "output_type": "stream",
     "text": [
      "WARNING:sagemaker.deprecations:The csv_serializer has been renamed in sagemaker>=2.\n",
      "See: https://sagemaker.readthedocs.io/en/stable/v2.html for details.\n"
     ]
    },
    {
     "name": "stdout",
     "output_type": "stream",
     "text": [
      "\"('London', 'LOC')\"\n",
      "\"('Rome', 'LOC')\"\n",
      "\"('Paris', 'LOC')\"\n",
      "\"('0', 'LOC')\"\n",
      "\n"
     ]
    }
   ],
   "source": [
    "print(predictor.predict(\"The London march came ahead of anti-war protests today in other cities , including Rome , Paris , and Madrid .\").decode(\"utf-8\"))"
   ]
  },
  {
   "cell_type": "code",
   "execution_count": 19,
   "id": "a3003cb6-8df7-42d5-82db-bc33b5970e1e",
   "metadata": {
    "tags": []
   },
   "outputs": [
    {
     "name": "stderr",
     "output_type": "stream",
     "text": [
      "WARNING:sagemaker.deprecations:The endpoint attribute has been renamed in sagemaker>=2.\n",
      "See: https://sagemaker.readthedocs.io/en/stable/v2.html for details.\n",
      "INFO:sagemaker:Deleting endpoint with name: spacy-container-2023-05-23-22-22-57-975\n"
     ]
    }
   ],
   "source": [
    "sess.delete_endpoint(predictor.endpoint)"
   ]
  },
  {
   "cell_type": "code",
   "execution_count": null,
   "id": "693aacb4-dfb9-4d45-ae1c-4348953b445b",
   "metadata": {},
   "outputs": [],
   "source": []
  },
  {
   "cell_type": "code",
   "execution_count": null,
   "id": "105bb893-019e-41c4-8ad6-ce72409e82cf",
   "metadata": {},
   "outputs": [],
   "source": []
  },
  {
   "cell_type": "code",
   "execution_count": null,
   "id": "adadb760-d187-4350-aad9-9dc8d58f3ab8",
   "metadata": {},
   "outputs": [],
   "source": []
  }
 ],
 "metadata": {
  "kernelspec": {
   "display_name": "conda_python3",
   "language": "python",
   "name": "conda_python3"
  },
  "language_info": {
   "codemirror_mode": {
    "name": "ipython",
    "version": 3
   },
   "file_extension": ".py",
   "mimetype": "text/x-python",
   "name": "python",
   "nbconvert_exporter": "python",
   "pygments_lexer": "ipython3",
   "version": "3.10.8"
  }
 },
 "nbformat": 4,
 "nbformat_minor": 5
}
